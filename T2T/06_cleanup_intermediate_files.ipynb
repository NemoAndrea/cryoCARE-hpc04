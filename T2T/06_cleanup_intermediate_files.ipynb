{
 "cells": [
  {
   "cell_type": "markdown",
   "metadata": {},
   "source": [
    "# Cleanup\n",
    "\n",
    "We generated a lot of intermediate files that we might not need anymore. I recommend you do **not** run this script in one go, but line by line to see what you would like to keep. This script will always keep:\n",
    "\n",
    "* The neural net files\n",
    "* The denoised tomograms"
   ]
  },
  {
   "cell_type": "code",
   "execution_count": 1,
   "metadata": {},
   "outputs": [],
   "source": [
    "from os.path import join, exists\n",
    "\n",
    "import sys\n",
    "\n",
    "import os\n",
    "from glob import glob\n",
    "import subprocess\n"
   ]
  },
  {
   "cell_type": "code",
   "execution_count": 25,
   "metadata": {},
   "outputs": [],
   "source": [
    "# do you really want to remove redundant files ? \n",
    "remove = False\n",
    "\n",
    "# do you also want to remove the even/odd/full stacks (i.e. tiltseries)?\n",
    "removestacks = False\n",
    "\n",
    "# do you also want to remove the even/odd raw half-tomograms?\n",
    "remove_half_tomos = False "
   ]
  },
  {
   "cell_type": "markdown",
   "metadata": {},
   "source": [
    "### Raw frames\n",
    "remove original .tif files from /frames as we have the full aligned frames in /frames/full so these files are no longer needed. This is to save space on the cluster. The default is to keep them, but it would be good practice to set the statement to True below, and hereby remove these now unnecessary files."
   ]
  },
  {
   "cell_type": "code",
   "execution_count": null,
   "metadata": {},
   "outputs": [],
   "source": [
    "if remove:\n",
    "    !\\rm frames/*.tif"
   ]
  },
  {
   "cell_type": "markdown",
   "metadata": {},
   "source": [
    "### single frames\n",
    "\n",
    "we have our even and odd frames which we turned into stacks already. They are therefore completely redundant."
   ]
  },
  {
   "cell_type": "code",
   "execution_count": null,
   "metadata": {},
   "outputs": [],
   "source": [
    "if remove:\n",
    "    !\\rm frames/even/*.mrc\n",
    "    !\\rm frames/odd/*.mrc\n",
    "    !\\rm frames/full/*.mrc"
   ]
  },
  {
   "cell_type": "markdown",
   "metadata": {},
   "source": [
    "### training data\n",
    "We can also remove the training data, as this takes up as much space as a full tomogram! Even if you want to retrain the network, it is pretty fast to make a new training set from the half-tomograms. So, it is absolutely fine to remove the training data **unless** it is important that you have the **exact same** training data. (e.g. when you want to compare effect of a different number of training iterations."
   ]
  },
  {
   "cell_type": "code",
   "execution_count": null,
   "metadata": {},
   "outputs": [],
   "source": [
    "if remove:\n",
    "    !\\rm train_data/train_data.npz"
   ]
  },
  {
   "cell_type": "markdown",
   "metadata": {},
   "source": [
    "### half-tomograms & IMOD files\n",
    "The tomogram folders still contain the raw stacks and imod files. We can remove these. If you plan on retraining the network (e.g. with different number of iterations or number of training volumes/slices), keep these files, as it'll save you reconstruction time. The imod files in the full folder are kept, as these might be needed if you ever want to remake the tomograms and take up very little space.\n",
    "\n",
    "**note that this keeps the tomostack.st files**"
   ]
  },
  {
   "cell_type": "code",
   "execution_count": 24,
   "metadata": {},
   "outputs": [
    {
     "name": "stdout",
     "output_type": "stream",
     "text": [
      "['frames/even/tomogram/test', 'frames/even/tomogram/test.txt', 'frames/even/tomogram/test2.png', 'frames/even/tomogram/tomostack.st']\n",
      "-----------------------------------------\n",
      "['frames/even/tomogram/test', 'frames/even/tomogram/test.txt', 'frames/even/tomogram/test2.png']\n",
      "['frames/even/tomogram/tomostack.st']\n"
     ]
    }
   ],
   "source": [
    "if remove_half_tomos:\n",
    "    # aproach is as follows:\n",
    "    # first find all items and folders in tomogram, from that list remove\n",
    "    # (note: this is not deleting file) the tomostack.st. Then go through\n",
    "    # remaining files and remove. If its a folder remove its contents and then delete folder\n",
    "    \n",
    "    files_even = glob('frames/even/tomogram/' + '*')\n",
    "    try:\n",
    "        files_even.remove('frames/even/tomogram/tomostack.st')\n",
    "    except ValueError:\n",
    "        pass # do nothing    \n",
    "    for file in files_even:\n",
    "        if os.path.isfile(file):         \n",
    "            os.remove(file)\n",
    "        if os.path.isdir(file):\n",
    "            subfiles = glob(file + '/*')\n",
    "            for subfile in subfiles:\n",
    "                os.remove(subfile)\n",
    "            os.rmdir(file)          \n",
    "\n",
    "    \n",
    "    files_odd = glob('frames/odd/tomogram/' + '*')\n",
    "    try:\n",
    "        files_odd.remove('frames/odd/tomogram/tomostack.st')\n",
    "    except ValueError:\n",
    "        pass # do nothing    \n",
    "    for file in files_odd:\n",
    "        if os.path.isfile(file):         \n",
    "            os.remove(file)\n",
    "        if os.path.isdir(file):\n",
    "            subfiles = glob(file + '/*')\n",
    "            for subfile in subfiles:\n",
    "                os.remove(subfile)\n",
    "            os.rmdir(file)          \n"
   ]
  },
  {
   "cell_type": "markdown",
   "metadata": {},
   "source": [
    "### Tilt series\n",
    "We still have the full motioncorrected tiltseries for the even/odd/full tomograms. You should have the _full_ one already on your local device when you were reconstructing the full tomogram, hence you don't really need these anymore. You might want to keep these if you plan on changing the reconstruction in imod at a later point. (e.g. you might want to try with goldremover, or with different SIRT parameters)"
   ]
  },
  {
   "cell_type": "code",
   "execution_count": null,
   "metadata": {},
   "outputs": [],
   "source": [
    "if removestacks:\n",
    "    !\\rm frames/even/tomograms/tomostack.st\n",
    "    !\\rm frames/odd/tomograms/tomostack.st"
   ]
  },
  {
   "cell_type": "code",
   "execution_count": null,
   "metadata": {},
   "outputs": [],
   "source": []
  }
 ],
 "metadata": {
  "kernelspec": {
   "display_name": "Python 3",
   "language": "python",
   "name": "python3"
  },
  "language_info": {
   "codemirror_mode": {
    "name": "ipython",
    "version": 3
   },
   "file_extension": ".py",
   "mimetype": "text/x-python",
   "name": "python",
   "nbconvert_exporter": "python",
   "pygments_lexer": "ipython3",
   "version": "3.7.4"
  }
 },
 "nbformat": 4,
 "nbformat_minor": 2
}
