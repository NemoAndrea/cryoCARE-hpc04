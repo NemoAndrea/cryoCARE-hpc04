{
 "cells": [
  {
   "cell_type": "markdown",
   "metadata": {},
   "source": [
    "# Predict cryo-CARE\n",
    "\n",
    "In this notebook we will take the two reconstructed (even/odd) tomograms and apply the trained network to them. Afterwards we will average them voxel-wise to get our final restored tomogram."
   ]
  },
  {
   "cell_type": "code",
   "execution_count": null,
   "metadata": {},
   "outputs": [],
   "source": [
    "from train_cryo_care import CryoCARE\n",
    "from generate_train_data import normalize, compute_mean_std, denormalize\n",
    "\n",
    "import mrcfile\n",
    "import numpy as np\n",
    "import os\n",
    "import subprocess\n",
    "\n",
    "from matplotlib import pyplot as plt\n",
    "\n",
    "from glob import glob"
   ]
  },
  {
   "cell_type": "code",
   "execution_count": null,
   "metadata": {},
   "outputs": [],
   "source": [
    "# imports and settings for the GPU\n",
    "\n",
    "os.environ[\"CUDA_VISIBLE_DEVICES\"]=\"0\" # <<< Set the GPU you want to use for the network here (0-7)"
   ]
  },
  {
   "cell_type": "markdown",
   "metadata": {},
   "source": [
    "## Load Tomograms"
   ]
  },
  {
   "cell_type": "code",
   "execution_count": null,
   "metadata": {},
   "outputs": [],
   "source": [
    "# Load the two tomograms -  it searches for a file named half-tomo.rec, which is default imod name\n",
    "# if you used SIRT, change the name accordingly (e.g. half-tomo_SIRT_iter_03.rec)\n",
    "even = mrcfile.open(glob('frames/even/tomogram/half-tomo.rec')[0]).data\n",
    "odd = mrcfile.open(glob('frames/odd/tomogram/half-tomo.rec')[0]).data"
   ]
  },
  {
   "cell_type": "code",
   "execution_count": null,
   "metadata": {},
   "outputs": [],
   "source": [
    "# We want to normalise the dataset such that the mean is zero, and standard deviation is 1. To do so we must\n",
    "# first compute mean and std of the raw data.\n",
    "\n",
    "mean, std = compute_mean_std(np.stack((even, odd))) \n",
    "print(mean, std) # lets see it for diagnostic purposes"
   ]
  },
  {
   "cell_type": "code",
   "execution_count": null,
   "metadata": {},
   "outputs": [],
   "source": [
    "# Normalize the data\n",
    "even_n = normalize(even, mean, std)\n",
    "odd_n = normalize(odd, mean, std)"
   ]
  },
  {
   "cell_type": "markdown",
   "metadata": {},
   "source": [
    "## Load Network\n",
    "We load the model trained in notebook [04]"
   ]
  },
  {
   "cell_type": "code",
   "execution_count": null,
   "metadata": {},
   "outputs": [],
   "source": [
    "model = CryoCARE(None, 'denoiser_model', basedir='')"
   ]
  },
  {
   "cell_type": "markdown",
   "metadata": {},
   "source": [
    "## Apply Network\n",
    "If you get an error message in model.predict that contains out of memory somewhere in the error stack, adjust n_tiles=(4,8,8) to larger values, (e.g. n_tiles = (8,8,8) etc)"
   ]
  },
  {
   "cell_type": "code",
   "execution_count": null,
   "metadata": {},
   "outputs": [],
   "source": [
    "# We denoise the normalized data and denormalize it. This means the intensities \n",
    "# are transformed back into the original data range.\n",
    "# Note: We set 'normalizer=None' since we already normalized the data. \n",
    "even_denoised = denormalize(model.predict(even_n, axes='ZYX', n_tiles=(4,8,8), normalizer=None), mean, std)"
   ]
  },
  {
   "cell_type": "code",
   "execution_count": null,
   "metadata": {},
   "outputs": [],
   "source": [
    "odd_denoised = denormalize(model.predict(odd_n, axes='ZYX', n_tiles=(4,8,8), normalizer=None), mean, std)"
   ]
  },
  {
   "cell_type": "code",
   "execution_count": null,
   "metadata": {},
   "outputs": [],
   "source": [
    "# Voxel-wise averaging of the two halves.\n",
    "tomo_denoised = (even_denoised + odd_denoised)/2.0\n",
    "tomo_raw_average = (even + odd)/2.0 # for optional inspection only"
   ]
  },
  {
   "cell_type": "code",
   "execution_count": null,
   "metadata": {},
   "outputs": [],
   "source": [
    "# Create the output directory\n",
    "if not os.path.isdir('output/'):\n",
    "    os.mkdir('output/')"
   ]
  },
  {
   "cell_type": "code",
   "execution_count": null,
   "metadata": {},
   "outputs": [],
   "source": [
    "# Save the denoised tomogram.\n",
    "with mrcfile.open('output/tomo_denoised.mrc', 'w+') as mrc:\n",
    "    mrc.set_data(tomo_denoised)"
   ]
  },
  {
   "cell_type": "markdown",
   "metadata": {},
   "source": [
    "## (optional) Quick inspection of results"
   ]
  },
  {
   "cell_type": "code",
   "execution_count": null,
   "metadata": {},
   "outputs": [],
   "source": [
    "# Print dimensions of tomogram, so you can pick valid coordinates in validation below\n",
    "print(np.shape(even_denoised))"
   ]
  },
  {
   "cell_type": "code",
   "execution_count": null,
   "metadata": {},
   "outputs": [],
   "source": [
    "# specify area you wish to plot. It must result in a 2D array. (so one of indexes must be a single number)\n",
    "area_coordinates = [slice(10,200),slice(10,200),8] # slice(a,b) is the same as a:b as argument in array index\n",
    "\n",
    "plt.figure(figsize=(20,25))\n",
    "my_z = 108\n",
    "plt.subplot(3,2,1)\n",
    "plt.imshow(even_n[area_coordinates], cmap='gray')\n",
    "plt.title('Even Raw');\n",
    "plt.subplot(3,2,2)\n",
    "plt.imshow(even_denoised[area_coordinates], cmap='gray')\n",
    "plt.title('Even Denoised');\n",
    "plt.subplot(3,2,3)\n",
    "plt.imshow(odd[area_coordinates], cmap='gray')\n",
    "plt.title('Odd Raw');\n",
    "plt.subplot(3,2,4)\n",
    "plt.imshow(odd_denoised[area_coordinates], cmap='gray')\n",
    "plt.title('Odd Denoised');\n",
    "plt.subplot(3,2,5)\n",
    "plt.imshow(((even+odd)/2.0)[area_coordinates], cmap='gray')\n",
    "plt.title('Voxel-wise Average Raw');\n",
    "plt.subplot(3,2,6)\n",
    "plt.imshow(tomo_denoised[area_coordinates], cmap='gray')\n",
    "plt.title('Voxel-wise Average Denoised');"
   ]
  },
  {
   "cell_type": "code",
   "execution_count": null,
   "metadata": {},
   "outputs": [],
   "source": [
    "# restart the kernel so the GPUs are freed - not a very elegant way\n",
    "# this will result in a pop up dialog saying 'The kernel appears to have died. It will restart automatically.'\n",
    "# you can ignore this and accept, the script should have completed successfully\n",
    "\n",
    "exit()"
   ]
  }
 ],
 "metadata": {
  "kernelspec": {
   "display_name": "Python 3",
   "language": "python",
   "name": "python3"
  },
  "language_info": {
   "codemirror_mode": {
    "name": "ipython",
    "version": 3
   },
   "file_extension": ".py",
   "mimetype": "text/x-python",
   "name": "python",
   "nbconvert_exporter": "python",
   "pygments_lexer": "ipython3",
   "version": "3.7.4"
  }
 },
 "nbformat": 4,
 "nbformat_minor": 2
}
