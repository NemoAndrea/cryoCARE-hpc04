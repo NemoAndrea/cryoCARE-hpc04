{
 "cells": [
  {
   "cell_type": "code",
   "execution_count": 2,
   "metadata": {},
   "outputs": [],
   "source": [
    "import mrcfile\n",
    "from matplotlib import pyplot as plt\n",
    "\n",
    "import os\n",
    "from os.path import join, basename, exists\n",
    "import subprocess\n",
    "from utils import cd\n",
    "\n",
    "from shutil import move as mv\n",
    "from shutil import copy as cp\n",
    "\n",
    "from glob import glob\n",
    "\n",
    "import numpy as np\n",
    "\n",
    "from contextlib import contextmanager\n",
    "import re #regular expressions\n"
   ]
  },
  {
   "cell_type": "markdown",
   "metadata": {},
   "source": [
    "## For the 1400"
   ]
  },
  {
   "cell_type": "code",
   "execution_count": 26,
   "metadata": {},
   "outputs": [],
   "source": [
    "# Path to the imod reconstruction files\n",
    "path_to_rawframes = '/data/Tomo1400/frames/rawholder/'\n",
    "path_to_frames = '/data/Tomo1400/frames/'"
   ]
  },
  {
   "cell_type": "code",
   "execution_count": 32,
   "metadata": {},
   "outputs": [
    {
     "name": "stdout",
     "output_type": "stream",
     "text": [
      "['/data/Tomo1400/frames/rawholder/test0000.tif', '/data/Tomo1400/frames/rawholder/test0001.tif', '/data/Tomo1400/frames/rawholder/test0002.tif', '/data/Tomo1400/frames/rawholder/test0003.tif', '/data/Tomo1400/frames/rawholder/test0004.tif', '/data/Tomo1400/frames/rawholder/test0005.tif', '/data/Tomo1400/frames/rawholder/test0006.tif', '/data/Tomo1400/frames/rawholder/test0007.tif', '/data/Tomo1400/frames/rawholder/test0008.tif', '/data/Tomo1400/frames/rawholder/test0009.tif', '/data/Tomo1400/frames/rawholder/test0010.tif', '/data/Tomo1400/frames/rawholder/test0011.tif', '/data/Tomo1400/frames/rawholder/test0012.tif', '/data/Tomo1400/frames/rawholder/test0013.tif', '/data/Tomo1400/frames/rawholder/test0014.tif', '/data/Tomo1400/frames/rawholder/test0015.tif', '/data/Tomo1400/frames/rawholder/test0016.tif', '/data/Tomo1400/frames/rawholder/test0017.tif', '/data/Tomo1400/frames/rawholder/test0018.tif', '/data/Tomo1400/frames/rawholder/test0019.tif', '/data/Tomo1400/frames/rawholder/test0020.tif', '/data/Tomo1400/frames/rawholder/test0021.tif', '/data/Tomo1400/frames/rawholder/test0022.tif', '/data/Tomo1400/frames/rawholder/test0023.tif', '/data/Tomo1400/frames/rawholder/test0024.tif', '/data/Tomo1400/frames/rawholder/test0025.tif', '/data/Tomo1400/frames/rawholder/test0026.tif', '/data/Tomo1400/frames/rawholder/test0027.tif', '/data/Tomo1400/frames/rawholder/test0028.tif', '/data/Tomo1400/frames/rawholder/test0029.tif', '/data/Tomo1400/frames/rawholder/test0030.tif', '/data/Tomo1400/frames/rawholder/test0031.tif', '/data/Tomo1400/frames/rawholder/test0032.tif', '/data/Tomo1400/frames/rawholder/test0033.tif', '/data/Tomo1400/frames/rawholder/test0034.tif', '/data/Tomo1400/frames/rawholder/test0035.tif', '/data/Tomo1400/frames/rawholder/test0036.tif', '/data/Tomo1400/frames/rawholder/test0037.tif', '/data/Tomo1400/frames/rawholder/test0038.tif', '/data/Tomo1400/frames/rawholder/test0039.tif', '/data/Tomo1400/frames/rawholder/test0040.tif', '/data/Tomo1400/frames/rawholder/test0041.tif', '/data/Tomo1400/frames/rawholder/test0042.tif', '/data/Tomo1400/frames/rawholder/test0043.tif', '/data/Tomo1400/frames/rawholder/test0044.tif', '/data/Tomo1400/frames/rawholder/test0045.tif', '/data/Tomo1400/frames/rawholder/test0046.tif', '/data/Tomo1400/frames/rawholder/test0047.tif', '/data/Tomo1400/frames/rawholder/test0048.tif', '/data/Tomo1400/frames/rawholder/test0049.tif', '/data/Tomo1400/frames/rawholder/test0050.tif', '/data/Tomo1400/frames/rawholder/test0051.tif', '/data/Tomo1400/frames/rawholder/test0052.tif', '/data/Tomo1400/frames/rawholder/test0053.tif', '/data/Tomo1400/frames/rawholder/test0054.tif', '/data/Tomo1400/frames/rawholder/test0055.tif', '/data/Tomo1400/frames/rawholder/test0056.tif', '/data/Tomo1400/frames/rawholder/test0057.tif', '/data/Tomo1400/frames/rawholder/test0058.tif', '/data/Tomo1400/frames/rawholder/test0059.tif', '/data/Tomo1400/frames/rawholder/test0060.tif', '/data/Tomo1400/frames/rawholder/test0061.tif', '/data/Tomo1400/frames/rawholder/test0062.tif', '/data/Tomo1400/frames/rawholder/test0063.tif', '/data/Tomo1400/frames/rawholder/test0065.tif', '/data/Tomo1400/frames/rawholder/test0066.tif', '/data/Tomo1400/frames/rawholder/test0067.tif', '/data/Tomo1400/frames/rawholder/test0068.tif', '/data/Tomo1400/frames/rawholder/test0069.tif', '/data/Tomo1400/frames/rawholder/test0070.tif', '/data/Tomo1400/frames/rawholder/test0071.tif', '/data/Tomo1400/frames/rawholder/test0072.tif', '/data/Tomo1400/frames/rawholder/test0073.tif', '/data/Tomo1400/frames/rawholder/test0074.tif', '/data/Tomo1400/frames/rawholder/test0075.tif', '/data/Tomo1400/frames/rawholder/test0076.tif', '/data/Tomo1400/frames/rawholder/test0077.tif', '/data/Tomo1400/frames/rawholder/test0078.tif', '/data/Tomo1400/frames/rawholder/test0079.tif', '/data/Tomo1400/frames/rawholder/test0080.tif', '/data/Tomo1400/frames/rawholder/test0081.tif', '/data/Tomo1400/frames/rawholder/test0082.tif', '/data/Tomo1400/frames/rawholder/test0083.tif', '/data/Tomo1400/frames/rawholder/test0084.tif', '/data/Tomo1400/frames/rawholder/test0085.tif', '/data/Tomo1400/frames/rawholder/test0086.tif', '/data/Tomo1400/frames/rawholder/test0087.tif', '/data/Tomo1400/frames/rawholder/test0088.tif', '/data/Tomo1400/frames/rawholder/test0089.tif', '/data/Tomo1400/frames/rawholder/test0090.tif', '/data/Tomo1400/frames/rawholder/test0091.tif', '/data/Tomo1400/frames/rawholder/test0092.tif', '/data/Tomo1400/frames/rawholder/test0093.tif', '/data/Tomo1400/frames/rawholder/test0094.tif', '/data/Tomo1400/frames/rawholder/test0095.tif', '/data/Tomo1400/frames/rawholder/test0096.tif', '/data/Tomo1400/frames/rawholder/test0097.tif', '/data/Tomo1400/frames/rawholder/test0098.tif', '/data/Tomo1400/frames/rawholder/test0099.tif', '/data/Tomo1400/frames/rawholder/test0100.tif', '/data/Tomo1400/frames/rawholder/test0101.tif', '/data/Tomo1400/frames/rawholder/test0102.tif', '/data/Tomo1400/frames/rawholder/test0103.tif', '/data/Tomo1400/frames/rawholder/test0104.tif', '/data/Tomo1400/frames/rawholder/test0105.tif', '/data/Tomo1400/frames/rawholder/test0106.tif', '/data/Tomo1400/frames/rawholder/test0107.tif', '/data/Tomo1400/frames/rawholder/test0108.tif', '/data/Tomo1400/frames/rawholder/test0109.tif', '/data/Tomo1400/frames/rawholder/test0110.tif', '/data/Tomo1400/frames/rawholder/test0111.tif', '/data/Tomo1400/frames/rawholder/test0112.tif', '/data/Tomo1400/frames/rawholder/test0113.tif', '/data/Tomo1400/frames/rawholder/test0114.tif', '/data/Tomo1400/frames/rawholder/test0115.tif', '/data/Tomo1400/frames/rawholder/test0116.tif', '/data/Tomo1400/frames/rawholder/test0117.tif', '/data/Tomo1400/frames/rawholder/test0118.tif', '/data/Tomo1400/frames/rawholder/test0119.tif', '/data/Tomo1400/frames/rawholder/test0120.tif', '/data/Tomo1400/frames/rawholder/test0121.tif', '/data/Tomo1400/frames/rawholder/test0122.tif', '/data/Tomo1400/frames/rawholder/test0123.tif', '/data/Tomo1400/frames/rawholder/test0124.tif', '/data/Tomo1400/frames/rawholder/test0125.tif', '/data/Tomo1400/frames/rawholder/test0126.tif']\n",
      "Pixel Spacing in Angstroms: 4.809\n"
     ]
    }
   ],
   "source": [
    "files = sorted(glob(path_to_rawframes + '*.tif')) #change to mrc if mrc\n",
    "print(files)\n",
    "# Here we read out the pixel spacing from the imod-command.\n",
    "# Pixel spacing (Angstroms) according to the header\n",
    "p = !header -p {files[0]}\n",
    "pixel_spacing = float(p[0].split()[0]) \n",
    "print('Pixel Spacing in Angstroms:', pixel_spacing)"
   ]
  },
  {
   "cell_type": "code",
   "execution_count": 44,
   "metadata": {},
   "outputs": [
    {
     "name": "stdout",
     "output_type": "stream",
     "text": [
      "63.0\n",
      "['newstack', '/data/Tomo1400/frames/rawholder/test0000.tif', '/data/Tomo1400/frames/rawholder/test0001.tif', 'imagepair[0].mrc']\n",
      "['newstack', '/data/Tomo1400/frames/rawholder/test0002.tif', '/data/Tomo1400/frames/rawholder/test0003.tif', 'imagepair[-2].mrc']\n",
      "['newstack', '/data/Tomo1400/frames/rawholder/test0004.tif', '/data/Tomo1400/frames/rawholder/test0005.tif', 'imagepair[-4].mrc']\n",
      "['newstack', '/data/Tomo1400/frames/rawholder/test0006.tif', '/data/Tomo1400/frames/rawholder/test0007.tif', 'imagepair[-6].mrc']\n",
      "['newstack', '/data/Tomo1400/frames/rawholder/test0008.tif', '/data/Tomo1400/frames/rawholder/test0009.tif', 'imagepair[-8].mrc']\n",
      "['newstack', '/data/Tomo1400/frames/rawholder/test0010.tif', '/data/Tomo1400/frames/rawholder/test0011.tif', 'imagepair[-10].mrc']\n",
      "['newstack', '/data/Tomo1400/frames/rawholder/test0012.tif', '/data/Tomo1400/frames/rawholder/test0013.tif', 'imagepair[-12].mrc']\n",
      "['newstack', '/data/Tomo1400/frames/rawholder/test0014.tif', '/data/Tomo1400/frames/rawholder/test0015.tif', 'imagepair[-14].mrc']\n",
      "['newstack', '/data/Tomo1400/frames/rawholder/test0016.tif', '/data/Tomo1400/frames/rawholder/test0017.tif', 'imagepair[-16].mrc']\n",
      "['newstack', '/data/Tomo1400/frames/rawholder/test0018.tif', '/data/Tomo1400/frames/rawholder/test0019.tif', 'imagepair[-18].mrc']\n",
      "['newstack', '/data/Tomo1400/frames/rawholder/test0020.tif', '/data/Tomo1400/frames/rawholder/test0021.tif', 'imagepair[-20].mrc']\n",
      "['newstack', '/data/Tomo1400/frames/rawholder/test0022.tif', '/data/Tomo1400/frames/rawholder/test0023.tif', 'imagepair[-22].mrc']\n",
      "['newstack', '/data/Tomo1400/frames/rawholder/test0024.tif', '/data/Tomo1400/frames/rawholder/test0025.tif', 'imagepair[-24].mrc']\n",
      "['newstack', '/data/Tomo1400/frames/rawholder/test0026.tif', '/data/Tomo1400/frames/rawholder/test0027.tif', 'imagepair[-26].mrc']\n",
      "['newstack', '/data/Tomo1400/frames/rawholder/test0028.tif', '/data/Tomo1400/frames/rawholder/test0029.tif', 'imagepair[-28].mrc']\n",
      "['newstack', '/data/Tomo1400/frames/rawholder/test0030.tif', '/data/Tomo1400/frames/rawholder/test0031.tif', 'imagepair[-30].mrc']\n",
      "['newstack', '/data/Tomo1400/frames/rawholder/test0032.tif', '/data/Tomo1400/frames/rawholder/test0033.tif', 'imagepair[-32].mrc']\n",
      "['newstack', '/data/Tomo1400/frames/rawholder/test0034.tif', '/data/Tomo1400/frames/rawholder/test0035.tif', 'imagepair[-34].mrc']\n",
      "['newstack', '/data/Tomo1400/frames/rawholder/test0036.tif', '/data/Tomo1400/frames/rawholder/test0037.tif', 'imagepair[-36].mrc']\n",
      "['newstack', '/data/Tomo1400/frames/rawholder/test0038.tif', '/data/Tomo1400/frames/rawholder/test0039.tif', 'imagepair[-38].mrc']\n",
      "['newstack', '/data/Tomo1400/frames/rawholder/test0040.tif', '/data/Tomo1400/frames/rawholder/test0041.tif', 'imagepair[-40].mrc']\n",
      "['newstack', '/data/Tomo1400/frames/rawholder/test0042.tif', '/data/Tomo1400/frames/rawholder/test0043.tif', 'imagepair[-42].mrc']\n",
      "['newstack', '/data/Tomo1400/frames/rawholder/test0044.tif', '/data/Tomo1400/frames/rawholder/test0045.tif', 'imagepair[-44].mrc']\n",
      "['newstack', '/data/Tomo1400/frames/rawholder/test0046.tif', '/data/Tomo1400/frames/rawholder/test0047.tif', 'imagepair[-46].mrc']\n",
      "['newstack', '/data/Tomo1400/frames/rawholder/test0048.tif', '/data/Tomo1400/frames/rawholder/test0049.tif', 'imagepair[-48].mrc']\n",
      "['newstack', '/data/Tomo1400/frames/rawholder/test0050.tif', '/data/Tomo1400/frames/rawholder/test0051.tif', 'imagepair[-50].mrc']\n",
      "['newstack', '/data/Tomo1400/frames/rawholder/test0052.tif', '/data/Tomo1400/frames/rawholder/test0053.tif', 'imagepair[-52].mrc']\n",
      "['newstack', '/data/Tomo1400/frames/rawholder/test0054.tif', '/data/Tomo1400/frames/rawholder/test0055.tif', 'imagepair[-54].mrc']\n",
      "['newstack', '/data/Tomo1400/frames/rawholder/test0056.tif', '/data/Tomo1400/frames/rawholder/test0057.tif', 'imagepair[-56].mrc']\n",
      "['newstack', '/data/Tomo1400/frames/rawholder/test0058.tif', '/data/Tomo1400/frames/rawholder/test0059.tif', 'imagepair[-58].mrc']\n",
      "['newstack', '/data/Tomo1400/frames/rawholder/test0060.tif', '/data/Tomo1400/frames/rawholder/test0061.tif', 'imagepair[-60].mrc']\n",
      "['newstack', '/data/Tomo1400/frames/rawholder/test0062.tif', '/data/Tomo1400/frames/rawholder/test0063.tif', 'imagepair[-62].mrc']\n",
      "['newstack', '/data/Tomo1400/frames/rawholder/test0065.tif', '/data/Tomo1400/frames/rawholder/test0066.tif', 'imagepair[0].mrc']\n",
      "['newstack', '/data/Tomo1400/frames/rawholder/test0067.tif', '/data/Tomo1400/frames/rawholder/test0068.tif', 'imagepair[2].mrc']\n",
      "['newstack', '/data/Tomo1400/frames/rawholder/test0069.tif', '/data/Tomo1400/frames/rawholder/test0070.tif', 'imagepair[4].mrc']\n",
      "['newstack', '/data/Tomo1400/frames/rawholder/test0071.tif', '/data/Tomo1400/frames/rawholder/test0072.tif', 'imagepair[6].mrc']\n",
      "['newstack', '/data/Tomo1400/frames/rawholder/test0073.tif', '/data/Tomo1400/frames/rawholder/test0074.tif', 'imagepair[8].mrc']\n",
      "['newstack', '/data/Tomo1400/frames/rawholder/test0075.tif', '/data/Tomo1400/frames/rawholder/test0076.tif', 'imagepair[10].mrc']\n",
      "['newstack', '/data/Tomo1400/frames/rawholder/test0077.tif', '/data/Tomo1400/frames/rawholder/test0078.tif', 'imagepair[12].mrc']\n",
      "['newstack', '/data/Tomo1400/frames/rawholder/test0079.tif', '/data/Tomo1400/frames/rawholder/test0080.tif', 'imagepair[14].mrc']\n",
      "['newstack', '/data/Tomo1400/frames/rawholder/test0081.tif', '/data/Tomo1400/frames/rawholder/test0082.tif', 'imagepair[16].mrc']\n",
      "['newstack', '/data/Tomo1400/frames/rawholder/test0083.tif', '/data/Tomo1400/frames/rawholder/test0084.tif', 'imagepair[18].mrc']\n",
      "['newstack', '/data/Tomo1400/frames/rawholder/test0085.tif', '/data/Tomo1400/frames/rawholder/test0086.tif', 'imagepair[20].mrc']\n",
      "['newstack', '/data/Tomo1400/frames/rawholder/test0087.tif', '/data/Tomo1400/frames/rawholder/test0088.tif', 'imagepair[22].mrc']\n",
      "['newstack', '/data/Tomo1400/frames/rawholder/test0089.tif', '/data/Tomo1400/frames/rawholder/test0090.tif', 'imagepair[24].mrc']\n",
      "['newstack', '/data/Tomo1400/frames/rawholder/test0091.tif', '/data/Tomo1400/frames/rawholder/test0092.tif', 'imagepair[26].mrc']\n",
      "['newstack', '/data/Tomo1400/frames/rawholder/test0093.tif', '/data/Tomo1400/frames/rawholder/test0094.tif', 'imagepair[28].mrc']\n",
      "['newstack', '/data/Tomo1400/frames/rawholder/test0095.tif', '/data/Tomo1400/frames/rawholder/test0096.tif', 'imagepair[30].mrc']\n",
      "['newstack', '/data/Tomo1400/frames/rawholder/test0097.tif', '/data/Tomo1400/frames/rawholder/test0098.tif', 'imagepair[32].mrc']\n",
      "['newstack', '/data/Tomo1400/frames/rawholder/test0099.tif', '/data/Tomo1400/frames/rawholder/test0100.tif', 'imagepair[34].mrc']\n",
      "['newstack', '/data/Tomo1400/frames/rawholder/test0101.tif', '/data/Tomo1400/frames/rawholder/test0102.tif', 'imagepair[36].mrc']\n",
      "['newstack', '/data/Tomo1400/frames/rawholder/test0103.tif', '/data/Tomo1400/frames/rawholder/test0104.tif', 'imagepair[38].mrc']\n",
      "['newstack', '/data/Tomo1400/frames/rawholder/test0105.tif', '/data/Tomo1400/frames/rawholder/test0106.tif', 'imagepair[40].mrc']\n",
      "['newstack', '/data/Tomo1400/frames/rawholder/test0107.tif', '/data/Tomo1400/frames/rawholder/test0108.tif', 'imagepair[42].mrc']\n",
      "['newstack', '/data/Tomo1400/frames/rawholder/test0109.tif', '/data/Tomo1400/frames/rawholder/test0110.tif', 'imagepair[44].mrc']\n",
      "['newstack', '/data/Tomo1400/frames/rawholder/test0111.tif', '/data/Tomo1400/frames/rawholder/test0112.tif', 'imagepair[46].mrc']\n",
      "['newstack', '/data/Tomo1400/frames/rawholder/test0113.tif', '/data/Tomo1400/frames/rawholder/test0114.tif', 'imagepair[48].mrc']\n",
      "['newstack', '/data/Tomo1400/frames/rawholder/test0115.tif', '/data/Tomo1400/frames/rawholder/test0116.tif', 'imagepair[50].mrc']\n",
      "['newstack', '/data/Tomo1400/frames/rawholder/test0117.tif', '/data/Tomo1400/frames/rawholder/test0118.tif', 'imagepair[52].mrc']\n",
      "['newstack', '/data/Tomo1400/frames/rawholder/test0119.tif', '/data/Tomo1400/frames/rawholder/test0120.tif', 'imagepair[54].mrc']\n",
      "['newstack', '/data/Tomo1400/frames/rawholder/test0121.tif', '/data/Tomo1400/frames/rawholder/test0122.tif', 'imagepair[56].mrc']\n",
      "['newstack', '/data/Tomo1400/frames/rawholder/test0123.tif', '/data/Tomo1400/frames/rawholder/test0124.tif', 'imagepair[58].mrc']\n",
      "['newstack', '/data/Tomo1400/frames/rawholder/test0125.tif', '/data/Tomo1400/frames/rawholder/test0126.tif', 'imagepair[60].mrc']\n"
     ]
    }
   ],
   "source": [
    "# make new stacks for motioncor for 1400 pairs (inspect manually first)\n",
    "\n",
    "numtilts = len(files)/2\n",
    "print(numtilts)\n",
    "with cd(path_to_frames):\n",
    "    for i in range(int(numtilts)):\n",
    "        if(i<32):\n",
    "            cmd = ['newstack'] + files[i*2:i*2+2] + ['imagepair[' +str(i*-2) + '].mrc']\n",
    "        else:\n",
    "            cmd = ['newstack'] + files[i*2:i*2+2] + ['imagepair[' +str((i-32)*2) + '].mrc']\n",
    "        print(cmd)\n",
    "        with open(\"1400stacker.log\", \"a\") as log:\n",
    "            subprocess.run(cmd, stdout=log, stderr=log)    "
   ]
  },
  {
   "cell_type": "code",
   "execution_count": null,
   "metadata": {},
   "outputs": [],
   "source": []
  },
  {
   "cell_type": "code",
   "execution_count": null,
   "metadata": {},
   "outputs": [],
   "source": []
  }
 ],
 "metadata": {
  "kernelspec": {
   "display_name": "Python 3",
   "language": "python",
   "name": "python3"
  },
  "language_info": {
   "codemirror_mode": {
    "name": "ipython",
    "version": 3
   },
   "file_extension": ".py",
   "mimetype": "text/x-python",
   "name": "python",
   "nbconvert_exporter": "python",
   "pygments_lexer": "ipython3",
   "version": "3.7.4"
  }
 },
 "nbformat": 4,
 "nbformat_minor": 4
}
