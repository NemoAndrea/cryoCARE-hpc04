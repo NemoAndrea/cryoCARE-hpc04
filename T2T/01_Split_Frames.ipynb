{
 "cells": [
  {
   "cell_type": "markdown",
   "metadata": {},
   "source": [
    "# Split Movie Frames\n",
    "\n",
    "The first step in training a cryo-CARE network is to split the direct detector acquisition movies. To that end we will first align the frames with [MotionCor2](https://www.nature.com/articles/nmeth.4193) and then split the frames into even and odd acquistions."
   ]
  },
  {
   "cell_type": "code",
   "execution_count": null,
   "metadata": {},
   "outputs": [],
   "source": [
    "from glob import glob\n",
    "import mrcfile\n",
    "import os\n",
    "import sys\n",
    "from os.path import join, basename, splitext\n",
    "from utils import cd\n",
    "\n",
    "import subprocess\n",
    "\n",
    "import numpy as np\n",
    "from tqdm import tqdm\n",
    "\n",
    "from matplotlib import pyplot as plt\n",
    "\n",
    "from utils import *\n",
    "\n",
    "import warnings\n",
    "warnings.filterwarnings(action='ignore')"
   ]
  },
  {
   "cell_type": "code",
   "execution_count": null,
   "metadata": {},
   "outputs": [],
   "source": [
    "# imports and settings for the GPU\n",
    "\n",
    "os.environ[\"CUDA_VISIBLE_DEVICES\"]=\"0\" # <<< Set the GPU you want to use for the network here (0-7)"
   ]
  },
  {
   "cell_type": "code",
   "execution_count": null,
   "metadata": {},
   "outputs": [],
   "source": [
    "# this assumes you have copied the cryoCARE scripts into the right location\n",
    "data_path = 'frames/'"
   ]
  },
  {
   "cell_type": "code",
   "execution_count": null,
   "metadata": {},
   "outputs": [],
   "source": [
    "# Read the list of mrc-files and display them.\n",
    "files = glob(data_path + '*.tif') #change to mrc if mrc\n",
    "files"
   ]
  },
  {
   "cell_type": "code",
   "execution_count": null,
   "metadata": {},
   "outputs": [],
   "source": [
    "# Here we read out the pixel spacing from the imod-command.\n",
    "# Pixel spacing (Angstroms) according to the header\n",
    "p = !header -p {files[0]}\n",
    "\n",
    "pixel_spacing = float(p[0].split()[0]) \n",
    "\n",
    "print('Pixel Spacing in Angstroms:', pixel_spacing)"
   ]
  },
  {
   "cell_type": "markdown",
   "metadata": {},
   "source": [
    "## Align & Split\n",
    "\n",
    "Each file gets aligned with MotionCor2 and the aligned stack is written to a `tmp` directory. Then the aligned stack is loaded and split in the two halves (even/odd) and written to the corresponding directories."
   ]
  },
  {
   "cell_type": "code",
   "execution_count": null,
   "metadata": {},
   "outputs": [],
   "source": [
    "#if all files are .tiff instead of .mrc --- convert them (this is not required by default!)\n",
    "\n",
    "# for file in files:\n",
    "#     #print(file)\n",
    "#     cmd = 'tif2mrc ' + file + ' ' + file[:-3]+'mrc'\n",
    "#     print(cmd)\n",
    "#     subprocess.run(cmd, shell=True)      \n",
    "# #set list of files back to only the MRC files\n",
    "# # Read the list of mrc-files and display them.\n",
    "# files = glob(data_path +'*.mrc') #change to mrc if mrc\n",
    "# files"
   ]
  },
  {
   "cell_type": "code",
   "execution_count": null,
   "metadata": {},
   "outputs": [],
   "source": [
    "# Create directories\n",
    "if not os.path.isdir('tmp'):\n",
    "    os.mkdir('tmp')\n",
    "if not os.path.isdir(join(data_path, 'even')):\n",
    "    os.mkdir(join(data_path, 'even'))\n",
    "if not os.path.isdir(join(data_path, 'odd')):\n",
    "    os.mkdir(join(data_path, 'odd'))\n",
    "if not os.path.isdir(join(data_path, 'full')):\n",
    "    os.mkdir(join(data_path, 'full'))"
   ]
  },
  {
   "cell_type": "code",
   "execution_count": null,
   "metadata": {},
   "outputs": [],
   "source": [
    "def align_and_split(files):    \n",
    "    # Align the frames with MotionCor2 and write out the aligned stack with '-OutStack 1'\n",
    "    !MotionCor2 -InTiff frames/ -InSuffix .tif -OutMrc tmp/ -Patch 5 5 5 -OutStack 1 -Gpu 0 -Serial 1;  \n",
    "    aligned_files = glob('tmp/*Stk.mrc') # get the algined files, that are still stack (not summed yet)\n",
    "    for f in tqdm(aligned_files):\n",
    "        print(f)\n",
    "        aligned_stack = mrcfile.open(glob(f)[0], permissive=True)  \n",
    "        # Save even frames\n",
    "        save_mrc(join(data_path, 'even', splitext(basename(f))[0][:-4] + '.mrc'), np.sum(aligned_stack.data[::2], axis=0), pixel_spacing)\n",
    "        # Save odd frames\n",
    "        save_mrc(join(data_path, 'odd', splitext(basename(f))[0][:-4] + '.mrc'), np.sum(aligned_stack.data[1::2], axis=0), pixel_spacing)\n",
    "        # Save odd frames\n",
    "        save_mrc(join(data_path, 'full', splitext(basename(f))[0][:-4] + '.mrc'), np.sum(aligned_stack.data, axis=0), pixel_spacing)\n",
    "    # Remove raw aligned files\n",
    "    remove_files('tmp', extension='.mrc')       "
   ]
  },
  {
   "cell_type": "code",
   "execution_count": null,
   "metadata": {},
   "outputs": [],
   "source": [
    "# MotionCor2 will create a log file \n",
    "align_and_split(files)"
   ]
  },
  {
   "cell_type": "markdown",
   "metadata": {},
   "source": [
    "## Remove `tmp` Directory"
   ]
  },
  {
   "cell_type": "code",
   "execution_count": null,
   "metadata": {},
   "outputs": [],
   "source": [
    "remove_files('tmp', extension='.log')\n",
    "os.removedirs('tmp')"
   ]
  },
  {
   "cell_type": "code",
   "execution_count": null,
   "metadata": {},
   "outputs": [],
   "source": []
  }
 ],
 "metadata": {
  "kernelspec": {
   "display_name": "Python 3",
   "language": "python",
   "name": "python3"
  },
  "language_info": {
   "codemirror_mode": {
    "name": "ipython",
    "version": 3
   },
   "file_extension": ".py",
   "mimetype": "text/x-python",
   "name": "python",
   "nbconvert_exporter": "python",
   "pygments_lexer": "ipython3",
   "version": "3.7.4"
  }
 },
 "nbformat": 4,
 "nbformat_minor": 2
}
