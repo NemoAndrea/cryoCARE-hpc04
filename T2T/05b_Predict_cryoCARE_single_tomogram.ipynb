{
 "cells": [
  {
   "cell_type": "markdown",
   "metadata": {},
   "source": [
    "# important notice\n",
    "This notebook **(05b)** is meant for running the network trained on the dataset in this directory on a dataset from a **different** directory. This can work if conditions are similar, pixelsize is the same. This is useful in case there is (1) no data tot train a network or (2) you just want some quick results.\n",
    "\n",
    "You just need to have a tomogram ready (i.e. a .rec file)"
   ]
  },
  {
   "cell_type": "code",
   "execution_count": null,
   "metadata": {},
   "outputs": [],
   "source": [
    "from train_cryo_care import CryoCARE\n",
    "from generate_train_data import normalize, compute_mean_std, denormalize\n",
    "\n",
    "import mrcfile\n",
    "import numpy as np\n",
    "import os\n",
    "from os.path import basename, splitext\n",
    "\n",
    "from matplotlib import pyplot as plt\n",
    "from glob import glob\n",
    "\n",
    "import subprocess"
   ]
  },
  {
   "cell_type": "code",
   "execution_count": null,
   "metadata": {},
   "outputs": [],
   "source": [
    "# imports and settings for the GPU\n",
    "\n",
    "os.environ[\"CUDA_VISIBLE_DEVICES\"]=\"0\" # <<< Set the GPU you want to use for the network here (0-7)"
   ]
  },
  {
   "cell_type": "markdown",
   "metadata": {},
   "source": [
    "First we create a directory where you should move the .rec file of the external tomogram into. In principle you could also link directly to the file in the different directory, but this is cleaner. Before copying any files, run the code below."
   ]
  },
  {
   "cell_type": "markdown",
   "metadata": {},
   "source": [
    "You can now copy all the tomograms you want to have the network run on into `/external tomograms`. So your `/external_tomograms` can contain multiple .rec files. The script will process them automatically. The original file and the denoised file will be moved to `/external_tomograms/output` after processing. This means you can always copy in more .rec files later in into  `/external tomograms` without it accidentally reprocessing the same files."
   ]
  },
  {
   "cell_type": "code",
   "execution_count": null,
   "metadata": {},
   "outputs": [],
   "source": [
    "# Create the output directory\n",
    "if not os.path.isdir('external_tomograms/'):\n",
    "    os.mkdir('external_tomograms/')\n",
    "if not os.path.isdir('external_tomograms/output/'):\n",
    "    os.mkdir('external_tomograms/output/')"
   ]
  },
  {
   "cell_type": "markdown",
   "metadata": {},
   "source": [
    "## Now we put the main process in a function"
   ]
  },
  {
   "cell_type": "code",
   "execution_count": null,
   "metadata": {},
   "outputs": [],
   "source": [
    "def denoiseAndSave(tomogram_path):\n",
    "    tomo_name = splitext(basename(tomogram_path))[0]\n",
    "    tomo = mrcfile.open(glob(tomogram_path)[0]).data\n",
    "    tomo_norm = normalize(tomo, mean, std)\n",
    "    tomo_denoised = denormalize(model.predict(tomo_norm, axes='ZYX', n_tiles=(8,8,8), normalizer=None), mean, std)\n",
    "    # Save the denoised tomogram.\n",
    "    with mrcfile.open('external_tomograms/output/denoised_' + tomo_name + '.mrc', 'w+') as mrc:\n",
    "        mrc.set_data(tomo_denoised)\n",
    "    # move the .rec file to the output directory\n",
    "    subprocess.run('mv ' + tomogram_path + ' external_tomograms/output/' + tomo_name + '.rec',shell = True)"
   ]
  },
  {
   "cell_type": "markdown",
   "metadata": {},
   "source": [
    "## Now we denoise and move all the files "
   ]
  },
  {
   "cell_type": "code",
   "execution_count": null,
   "metadata": {},
   "outputs": [],
   "source": [
    "tomograms = glob('external_tomograms/*.rec') # get the paths of the tomograms\n",
    "print(tomograms)"
   ]
  },
  {
   "cell_type": "code",
   "execution_count": null,
   "metadata": {},
   "outputs": [],
   "source": [
    "# We load mean and standard deviation that where used to normalize the training data\n",
    "mean_std = np.load('train_data/mean_std.npz')\n",
    "mean, std = mean_std['mean'], mean_std['std']\n",
    "\n",
    "# we load the model \n",
    "model = CryoCARE(None, 'denoiser_model', basedir='')"
   ]
  },
  {
   "cell_type": "code",
   "execution_count": null,
   "metadata": {},
   "outputs": [],
   "source": [
    "for tomogram in tomograms:\n",
    "    print('Denoising tomogram: ' + basename(tomogram) + '\\n')\n",
    "    denoiseAndSave(tomogram)"
   ]
  },
  {
   "cell_type": "code",
   "execution_count": null,
   "metadata": {},
   "outputs": [],
   "source": [
    "# restart the kernel so the GPUs are freed - not a very elegant way\n",
    "# this will result in a pop up dialog saying 'The kernel appears to have died. It will restart automatically.'\n",
    "# you can ignore this and accept, the script should have completed successfully\n",
    "\n",
    "quit"
   ]
  }
 ],
 "metadata": {
  "kernelspec": {
   "display_name": "Python 3",
   "language": "python",
   "name": "python3"
  },
  "language_info": {
   "codemirror_mode": {
    "name": "ipython",
    "version": 3
   },
   "file_extension": ".py",
   "mimetype": "text/x-python",
   "name": "python",
   "nbconvert_exporter": "python",
   "pygments_lexer": "ipython3",
   "version": "3.7.4"
  }
 },
 "nbformat": 4,
 "nbformat_minor": 2
}
