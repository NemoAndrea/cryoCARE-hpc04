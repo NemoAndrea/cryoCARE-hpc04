{
 "cells": [
  {
   "cell_type": "markdown",
   "metadata": {},
   "source": [
    "# Training Data Generation\n",
    "\n",
    "In this step we will extract the training/validation data from the even/odd tomograms. "
   ]
  },
  {
   "cell_type": "code",
   "execution_count": 5,
   "metadata": {},
   "outputs": [],
   "source": [
    "from generate_train_data import *\n",
    "\n",
    "import mrcfile\n",
    "from os.path import join, isdir\n",
    "from os import makedirs\n",
    "from glob import glob\n",
    "\n",
    "from matplotlib import pyplot as plt\n",
    "import numpy as np"
   ]
  },
  {
   "cell_type": "code",
   "execution_count": 12,
   "metadata": {},
   "outputs": [],
   "source": [
    "# Load the two tomograms \n",
    "even = mrcfile.open(glob('frames/even/tomogram/half-tomo.rec')[0]).data\n",
    "odd = mrcfile.open(glob('frames/odd/tomogram/half-tomo.rec')[0]).data"
   ]
  },
  {
   "cell_type": "code",
   "execution_count": null,
   "metadata": {},
   "outputs": [],
   "source": [
    "# Here we compute the mean and standard deviation which is needed to\n",
    "# normalize the inputs for the network.\n",
    "mean, std = compute_mean_std(np.stack((even, odd)))\n",
    "print(mean, std)"
   ]
  },
  {
   "cell_type": "code",
   "execution_count": 6,
   "metadata": {},
   "outputs": [],
   "source": [
    "# Create the train_data directory\n",
    "if not isdir('train_data/'):\n",
    "    makedirs('train_data/')\n",
    "# We save mean and standard deviation since it is needed during prediction.\n",
    "np.savez('train_data/mean_std.npz', mean=mean, std=std)"
   ]
  },
  {
   "cell_type": "markdown",
   "metadata": {},
   "source": [
    "## Masking\n",
    "\n",
    "In some cases you want to sample training/validation data not from the whole tomogram in that case you can create a mask from which the samples will be drawn. \n",
    "\n",
    "For this example we want to sample from the whole tomogram evenly. So we create a mask with all foreground (1)."
   ]
  },
  {
   "cell_type": "code",
   "execution_count": 7,
   "metadata": {},
   "outputs": [],
   "source": [
    "mask = np.ones(even.shape, dtype=np.int8)"
   ]
  },
  {
   "cell_type": "markdown",
   "metadata": {},
   "source": [
    "## Sample Coordinates\n",
    "\n",
    "With our mask we will now sample coordinates for the train and validation volumes. \n",
    "\n",
    "The method `sample_coordinates` will return two lists with coordinates of volumes. The train and validation volumes will not overlap."
   ]
  },
  {
   "cell_type": "code",
   "execution_count": 8,
   "metadata": {},
   "outputs": [],
   "source": [
    "train_coords, val_coords = sample_coordinates(mask, num_train_vols=1200, num_val_vols=120, vol_dims=(64,64,64))"
   ]
  },
  {
   "cell_type": "code",
   "execution_count": null,
   "metadata": {},
   "outputs": [],
   "source": [
    "# what fraction of tomogram volume do we cover with this num_train_vols (keep it below 100%) ?\n",
    "tomo_voxels = np.shape(even)[0]*np.shape(even)[1]*np.shape(even)[2]\n",
    "sampled_voxels = 64*64*64*1200\n",
    "print('sampled percentage is: ' + str(sampled_voxels/tomo_voxels*100))"
   ]
  },
  {
   "cell_type": "markdown",
   "metadata": {},
   "source": [
    "## Extract Volumes"
   ]
  },
  {
   "cell_type": "code",
   "execution_count": 14,
   "metadata": {},
   "outputs": [],
   "source": [
    "# Now we use the sampled coordinates to extract the train- and validation-volumes.\n",
    "X, Y, X_val, Y_val = extract_volumes(even, odd, train_coords, val_coords, mean, std)"
   ]
  },
  {
   "cell_type": "code",
   "execution_count": null,
   "metadata": {},
   "outputs": [],
   "source": [
    "plt.figure(figsize=(10,10))\n",
    "plt.subplot(2,2,1)\n",
    "plt.imshow(X[0,48,:,:,0], cmap='gray')\n",
    "plt.title('X');\n",
    "plt.subplot(2,2,2)\n",
    "plt.imshow(Y[0,48,:,:,0], cmap='gray')\n",
    "plt.title('Y');\n",
    "plt.subplot(2,2,3)\n",
    "plt.imshow(X_val[0,48,:,:,0], cmap='gray')\n",
    "plt.title('X_val');\n",
    "plt.subplot(2,2,4)\n",
    "plt.imshow(Y_val[0,48,:,:,0], cmap='gray')\n",
    "plt.title('Y_val');"
   ]
  },
  {
   "cell_type": "markdown",
   "metadata": {},
   "source": [
    "## Save Train-/Validation-Data"
   ]
  },
  {
   "cell_type": "code",
   "execution_count": 16,
   "metadata": {},
   "outputs": [],
   "source": [
    "np.savez('train_data/train_data.npz', X=X, Y=Y, X_val=X_val, Y_val=Y_val)"
   ]
  },
  {
   "cell_type": "code",
   "execution_count": null,
   "metadata": {},
   "outputs": [],
   "source": []
  }
 ],
 "metadata": {
  "kernelspec": {
   "display_name": "Python 3",
   "language": "python",
   "name": "python3"
  },
  "language_info": {
   "codemirror_mode": {
    "name": "ipython",
    "version": 3
   },
   "file_extension": ".py",
   "mimetype": "text/x-python",
   "name": "python",
   "nbconvert_exporter": "python",
   "pygments_lexer": "ipython3",
   "version": "3.7.4"
  }
 },
 "nbformat": 4,
 "nbformat_minor": 2
}
