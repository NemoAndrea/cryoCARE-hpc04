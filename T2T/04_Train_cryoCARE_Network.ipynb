{
 "cells": [
  {
   "cell_type": "markdown",
   "metadata": {},
   "source": [
    "# Train cryo-CARE Network\n",
    "\n",
    "In this notebook we initialize a new model and train it."
   ]
  },
  {
   "cell_type": "code",
   "execution_count": null,
   "metadata": {},
   "outputs": [],
   "source": [
    "from train_cryo_care import CryoCARE\n",
    "from csbdeep.models import Config\n",
    "from csbdeep.utils import plot_history\n",
    "import subprocess\n",
    "import numpy as np"
   ]
  },
  {
   "cell_type": "code",
   "execution_count": null,
   "metadata": {},
   "outputs": [],
   "source": [
    "# imports and settings for the GPU\n",
    "import os\n",
    "\n",
    "GPUs_to_use = \"0\" # <<< use up to 3 GPUs (it crashes at 4 for some reason) (0-7, format e.g. = '1,2,4')\n",
    "\n",
    "number_of_GPUs = len(GPUs_to_use.split(\",\")) \n",
    "os.environ[\"CUDA_VISIBLE_DEVICES\"] = GPUs_to_use"
   ]
  },
  {
   "cell_type": "markdown",
   "metadata": {},
   "source": [
    "## Create Model\n",
    "\n",
    "We use the standard `CSBDeep` config.\n",
    "\n",
    "**[Note]** Set the 'axes' to 'XY' for 2D (slice based) training, or 'ZYX' for 3D (volume based) training. This depends on which version of [03] you used for training data generation."
   ]
  },
  {
   "cell_type": "code",
   "execution_count": null,
   "metadata": {},
   "outputs": [],
   "source": [
    "# We set the 'train_steps_per_epoch' to 75. This way \n",
    "# 'train_steps_per_epoch' * 'train_batch_size' = 'num_train_volumes'\n",
    "# 75 * 16 = 1200\n",
    "conf = Config(axes='ZYX', train_loss='mse', train_epochs=200, train_steps_per_epoch=75, train_batch_size\n",
    "= 16)\n",
    "vars(conf)"
   ]
  },
  {
   "cell_type": "code",
   "execution_count": null,
   "metadata": {},
   "outputs": [],
   "source": [
    "# The `CryoCARE` model has a data-augmentation built in, which rotates the patches randomly by 90 degrees\n",
    "# about the Y-Axis\n",
    "model = CryoCARE(conf, 'denoiser_model', basedir='')"
   ]
  },
  {
   "cell_type": "markdown",
   "metadata": {},
   "source": [
    "## Load Train/Validation Data"
   ]
  },
  {
   "cell_type": "code",
   "execution_count": null,
   "metadata": {},
   "outputs": [],
   "source": [
    "data = np.load('train_data/train_data.npz')"
   ]
  },
  {
   "cell_type": "code",
   "execution_count": null,
   "metadata": {},
   "outputs": [],
   "source": [
    "X = data['X']\n",
    "Y = data['Y']\n",
    "X_val = data['X_val']\n",
    "Y_val = data['Y_val']"
   ]
  },
  {
   "cell_type": "markdown",
   "metadata": {},
   "source": [
    "## Train Model"
   ]
  },
  {
   "cell_type": "code",
   "execution_count": null,
   "metadata": {},
   "outputs": [],
   "source": [
    "history = model.train(X, Y, (X_val, Y_val), numGPU = number_of_GPUs) #"
   ]
  },
  {
   "cell_type": "code",
   "execution_count": null,
   "metadata": {},
   "outputs": [],
   "source": [
    "print(history.history.keys())"
   ]
  },
  {
   "cell_type": "code",
   "execution_count": null,
   "metadata": {},
   "outputs": [],
   "source": [
    "# you may have to run this manually again if you ran the whole notebook in one go (otherwise plot doesnt show up)\n",
    "from matplotlib import pyplot as plt\n",
    "plt.figure(figsize=(16,5))\n",
    "plot_history(history, 'loss', 'val_loss');"
   ]
  },
  {
   "cell_type": "code",
   "execution_count": null,
   "metadata": {},
   "outputs": [],
   "source": [
    "# if we used multiple GPUs we need to save the model differently (the true weights are now one layer down)\n",
    "if number_of_GPUs > 1:   \n",
    "    one_gpu_model = model.keras_model.layers[-2]    \n",
    "    one_gpu_model.save_weights('denoiser_model/multi_gpu_model.h5')\n",
    "    # remove the not-so-useful-files\n",
    "    subprocess.run('rm denoiser_model/weights_best.h5', shell = True)\n",
    "    subprocess.run('rm denoiser_model/weights_last.h5', shell = True)"
   ]
  },
  {
   "cell_type": "code",
   "execution_count": null,
   "metadata": {},
   "outputs": [],
   "source": [
    "# restart the kernel so the GPUs are freed - not a very elegant way\n",
    "# this will result in a pop up dialog saying 'The kernel appears to have died. It will restart automatically.'\n",
    "# you can ignore this and accept, the script should have completed successfully\n",
    "\n",
    "exit()"
   ]
  }
 ],
 "metadata": {
  "kernelspec": {
   "display_name": "Python 3",
   "language": "python",
   "name": "python3"
  },
  "language_info": {
   "codemirror_mode": {
    "name": "ipython",
    "version": 3
   },
   "file_extension": ".py",
   "mimetype": "text/x-python",
   "name": "python",
   "nbconvert_exporter": "python",
   "pygments_lexer": "ipython3",
   "version": "3.7.4"
  }
 },
 "nbformat": 4,
 "nbformat_minor": 2
}
