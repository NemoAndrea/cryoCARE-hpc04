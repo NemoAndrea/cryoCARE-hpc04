{
 "cells": [
  {
   "cell_type": "markdown",
   "metadata": {},
   "source": [
    "# Reconstruct even/odd Tomograms\n",
    "\n",
    "Now that we have split the data into an even and odd part, we need to construct a tomogram from these images. For this we will use IMOD. We will do reconstruction on the 'full' frames as they have the best signal-to-noise ratio and then copy the reconstruction parameters to automatically reconstruct the same tomograms from the even and odd half-datasets. First we need to make the separate frames into a stack, so run the code below and follow instructions"
   ]
  },
  {
   "cell_type": "code",
   "execution_count": null,
   "metadata": {},
   "outputs": [],
   "source": [
    "from shutil import copy as cp\n",
    "\n",
    "from os.path import join, exists\n",
    "\n",
    "from utils import modify_com_scripts, reconstruct_tomo\n",
    "\n",
    "import mrcfile\n",
    "from matplotlib import pyplot as plt\n",
    "import sys\n",
    "\n",
    "import os\n",
    "from glob import glob\n",
    "import subprocess\n",
    "import re #regular expressions (regex)"
   ]
  },
  {
   "cell_type": "code",
   "execution_count": null,
   "metadata": {},
   "outputs": [],
   "source": [
    "# imports and settings for the GPU\n",
    "\n",
    "os.environ[\"CUDA_VISIBLE_DEVICES\"] = \"0\" # e.g. \"0,1\""
   ]
  },
  {
   "cell_type": "code",
   "execution_count": null,
   "metadata": {},
   "outputs": [],
   "source": [
    "# Path to the parent directory of the even/odd splits\n",
    "data_path = 'frames/'\n",
    "\n",
    "#set up some directories\n",
    "if not os.path.isdir(join(data_path, 'even/tomogram')):\n",
    "    os.mkdir(join(data_path, 'even/tomogram'))\n",
    "if not os.path.isdir(join(data_path, 'odd/tomogram')):\n",
    "    os.mkdir(join(data_path, 'odd/tomogram'))\n",
    "if not os.path.isdir(join(data_path, 'full/tomogram')):\n",
    "    os.mkdir(join(data_path, 'full/tomogram'))"
   ]
  },
  {
   "cell_type": "markdown",
   "metadata": {},
   "source": [
    "Now we turn the .mrc files into a nicely aligned stack, based on the filenames. If this doesn't work, it may be because filenames are not in the standard formatting. You can also manually turn the files into a stack if you can't figure out how to fix this. Just make sure the stack ends up in the /tomogram folder of even, odd, and full."
   ]
  },
  {
   "cell_type": "code",
   "execution_count": null,
   "metadata": {},
   "outputs": [],
   "source": [
    "directories = ['even','odd','full']\n",
    "for directory in directories:    \n",
    "    # get the raw files\n",
    "    file_list = glob(join(data_path , directory , '*.mrc')) #change to mrc if mrc\n",
    "    \n",
    "    # sort the filenames as bidirectional for easy inspection\n",
    "    pattern = re.compile(r'(-?\\d+.?\\d+).mrc') # we set up a regex pattern (jeol3200 format), adjust if needed\n",
    "    def tilt_sorter(x):\n",
    "        return(int(float((re.findall(pattern, x)[0]))))\n",
    "    sorted_file_list = sorted(file_list, key = tilt_sorter) \n",
    "    \n",
    "    # now make the sorted list into a stack storedin the /tomogram directories\n",
    "    cmd = ['newstack'] + sorted_file_list + [data_path + directory + '/tomogram/' + 'tomostack.st']\n",
    "    #print(\" \".join(cmd))\n",
    "    subprocess.run(\" \".join(cmd), shell = True)"
   ]
  },
  {
   "cell_type": "markdown",
   "metadata": {},
   "source": [
    "remove original .tif files from /frames as we have the full aligned frames in /frames/full so these files are no longer needed. This is to save space on the cluster. The default is to keep them, but it would be good practice to set the statement to True below, and hereby remove these now unnecessary files."
   ]
  },
  {
   "cell_type": "code",
   "execution_count": null,
   "metadata": {},
   "outputs": [],
   "source": [
    "remove_original_tifs = False # set to true to remove .tifs in the /frames directory (but not in even, odd, full)\n",
    "\n",
    "if remove_original_tifs:\n",
    "    !\\rm frames/*.tif"
   ]
  },
  {
   "cell_type": "markdown",
   "metadata": {},
   "source": [
    "Now you should have a .st stack in the /tomogram folder of even, odd and full.\n",
    "## Tomogram reconstruction\n",
    "Now reconstruct a tomogram in the `/frames/full/tomogram` folder by navigating to this folder using terminal and then typing `etomo`. If bead clicking is required, copy the stack in `/frames/full/tomogram` to a new folder on your local device and reconstruct there. Copy the contents of the folder (minus the files bigger than 100MB for speed) back to `/frames/full/tomogram`. \n",
    "Copying files can be done via `rsync` or via filezilla. The latter is the easiest.\n",
    "\n",
    "(note:  we dont need files such as .rec, .ali, .st, so copying them back to hpc04 is just a waste of time. Easiest is just to sort by filesize and copy the files < 100MB via filezilla)"
   ]
  },
  {
   "cell_type": "markdown",
   "metadata": {},
   "source": [
    "## Copy Reconstruction Files"
   ]
  },
  {
   "cell_type": "code",
   "execution_count": null,
   "metadata": {},
   "outputs": [],
   "source": [
    "# Path to the imod reconstruction files (i.e. the directory containing full files)\n",
    "path_recon_files = 'frames/full/tomogram'"
   ]
  },
  {
   "cell_type": "code",
   "execution_count": null,
   "metadata": {},
   "outputs": [],
   "source": [
    "def copy_etomo_files(src, name, target):\n",
    "    # required for creating final aligned stack\n",
    "    cp(join(src, 'newst.com'), target)\n",
    "    cp(join(src, 'rotation.xf'), target)\n",
    "    cp(join(src, name + '.xf'), target)\n",
    "    # required for creating tomogram \n",
    "    cp(join(src, 'tilt.com'), target)\n",
    "    cp(join(src, name + '.xtilt'), target)\n",
    "    cp(join(src, name + '.tlt'), target)\n",
    "    # files for SIRT (optional, might not exist if user didnt use SIRT)\n",
    "    if exists(join(src, 'sirtsetup.com')):\n",
    "        cp(join(src, 'sirtsetup.com'),target);\n"
   ]
  },
  {
   "cell_type": "code",
   "execution_count": null,
   "metadata": {},
   "outputs": [],
   "source": [
    "# We copy the reconstruction files into the two sub-directories containing\n",
    "# the even/odd data.\n",
    "copy_etomo_files(path_recon_files, 'tomostack', data_path + 'even/tomogram')\n",
    "copy_etomo_files(path_recon_files, 'tomostack', data_path + 'odd/tomogram')"
   ]
  },
  {
   "cell_type": "markdown",
   "metadata": {},
   "source": [
    "## Reconstruct Tomograms\n",
    "Specify whether you want to use the SIRT method for tomogram reconstruction. Set to true if you used this in your 'full' reconstruction. "
   ]
  },
  {
   "cell_type": "code",
   "execution_count": null,
   "metadata": {},
   "outputs": [],
   "source": [
    "# This will write a reconstruction log \n",
    "reconstruct_tomo(join(data_path, 'even/tomogram'), 'tomostack', SIRT=False) # final output name will be 'half-tomo.rec'"
   ]
  },
  {
   "cell_type": "code",
   "execution_count": null,
   "metadata": {},
   "outputs": [],
   "source": [
    "# This will write a reconstruction log\n",
    "reconstruct_tomo(join(data_path, 'odd/tomogram'), 'tomostack', SIRT=False) # final output name will be 'half-tomo.rec'"
   ]
  },
  {
   "cell_type": "markdown",
   "metadata": {},
   "source": [
    "##  (Optional) Tomogram Inspection"
   ]
  },
  {
   "cell_type": "code",
   "execution_count": null,
   "metadata": {},
   "outputs": [],
   "source": [
    "tomogram_slice_nr = 100 # just the slice number you want to see of the tomogram\n",
    "with mrcfile.open(join(data_path, 'even/tomogram', 'half-tomo.rec')) as mrc:\n",
    "    even = mrc.data[tomogram_slice_nr]\n",
    "    \n",
    "with mrcfile.open(join(data_path, 'odd/tomogram', 'half-tomo.rec')) as mrc:\n",
    "    odd = mrc.data[tomogram_slice_nr]"
   ]
  },
  {
   "cell_type": "code",
   "execution_count": null,
   "metadata": {},
   "outputs": [],
   "source": [
    "plt.figure(figsize=(20,10))\n",
    "plt.subplot(1,2,1)\n",
    "plt.imshow(even[:200,:200], cmap='gray')\n",
    "plt.title('half-tomo_even.rec, slice ' + str(tomogram_slice_nr));\n",
    "plt.subplot(1,2,2)\n",
    "plt.imshow(odd[:200,:200], cmap='gray')\n",
    "plt.title('half-tomo_odd.rec, slice ' + str(tomogram_slice_nr));"
   ]
  },
  {
   "cell_type": "code",
   "execution_count": null,
   "metadata": {},
   "outputs": [],
   "source": []
  }
 ],
 "metadata": {
  "kernelspec": {
   "display_name": "Python 3",
   "language": "python",
   "name": "python3"
  },
  "language_info": {
   "codemirror_mode": {
    "name": "ipython",
    "version": 3
   },
   "file_extension": ".py",
   "mimetype": "text/x-python",
   "name": "python",
   "nbconvert_exporter": "python",
   "pygments_lexer": "ipython3",
   "version": "3.7.4"
  }
 },
 "nbformat": 4,
 "nbformat_minor": 2
}
